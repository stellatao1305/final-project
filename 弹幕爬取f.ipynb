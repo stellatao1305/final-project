{
 "cells": [
  {
   "cell_type": "code",
   "execution_count": 1,
   "metadata": {},
   "outputs": [
    {
     "name": "stderr",
     "output_type": "stream",
     "text": [
      "100%|██████████| 3/3 [00:10<00:00,  3.37s/it]"
     ]
    },
    {
     "name": "stdout",
     "output_type": "stream",
     "text": [
      "弹幕爬取完成\n"
     ]
    },
    {
     "name": "stderr",
     "output_type": "stream",
     "text": [
      "\n"
     ]
    }
   ],
   "source": [
    "import requests #请求网页数据\n",
    "from bs4 import BeautifulSoup #美味汤解析数据\n",
    "import pandas as pd\n",
    "import time\n",
    "from tqdm import trange #获取爬取速度\n",
    "\n",
    "def get_bilibili_url(start, end):\n",
    "    url_list = []\n",
    "    date_list = [i for i in pd.date_range(start, end).strftime('%Y-%m-%d')]\n",
    "    for date in date_list:\n",
    "        url = f\"https://api.bilibili.com/x/v2/dm/history?type=1&oid=157525597&date={date}\"\n",
    "        url_list.append(url)\n",
    "    return url_list\n",
    "\n",
    "def get_bilibili_danmu(url_list):\n",
    "    headers = {\n",
    "        \"user-agent\": \"Mozilla/5.0 (Windows NT 10.0; Win64; x64) AppleWebKit/537.36 (KHTML, like Gecko) Chrome/86.0.4240.198 Safari/537.36\",\n",
    "        \"cookie\": \"_uuid=0B760BD5-AD42-0E3E-2A8E-383FE17DCCA217028infoc; buvid3=E644C7C2-3090-4E6B-BF4B-9EFFB6C46171143088infoc; CURRENT_FNVAL=80; blackside_state=1; rpdid=|(kRkmm~Yuum0J'uY|llm|u)R; DedeUserID=535114874; DedeUserID__ckMd5=f3dcf24274bdc507; SESSDATA=8a5069fc%2C1621149170%2Cfea31*b1; bili_jct=3c0681ff267a1bf41051b2894bc165d2; bsource=search_google; bfe_id=74d2c8da80807a7b17efa7e7578c6f68; sid=jm8e1lp8\" #Headers中copy即可\n",
    "               }\n",
    "    \n",
    "   \n",
    "    file = open(\"bilibili_danmu.txt\", 'w')\n",
    "    for i in trange(len(url_list)):\n",
    "        url = url_list[i]\n",
    "        response = requests.get(url, headers=headers)\n",
    "        response.encoding = 'utf-8'\n",
    "        soup = BeautifulSoup(response.text)\n",
    "        data = soup.find_all(\"d\")\n",
    "        danmu = [data[i].text for i in range(len(data))]\n",
    "        for items in danmu:\n",
    "            file.write(items)\n",
    "            file.write(\"\\n\")\n",
    "        time.sleep(3)\n",
    "    file.close()\n",
    "\n",
    "\n",
    "if __name__ == \"__main__\":\n",
    "    start = '2/26/2020' #设置爬取弹幕的起始日\n",
    "    end = '2/28/2020' #设置爬取弹幕的终止日\n",
    "    url_list = get_bilibili_url(start, end)\n",
    "    get_bilibili_danmu(url_list)\n",
    "    print(\"弹幕爬取完成\")"
   ]
  },
  {
   "cell_type": "code",
   "execution_count": null,
   "metadata": {},
   "outputs": [],
   "source": []
  }
 ],
 "metadata": {
  "anaconda-cloud": {},
  "kernelspec": {
   "display_name": "Python 3",
   "language": "python",
   "name": "python3"
  },
  "language_info": {
   "codemirror_mode": {
    "name": "ipython",
    "version": 3
   },
   "file_extension": ".py",
   "mimetype": "text/x-python",
   "name": "python",
   "nbconvert_exporter": "python",
   "pygments_lexer": "ipython3",
   "version": "3.8.3"
  },
  "toc": {
   "base_numbering": 1,
   "nav_menu": {},
   "number_sections": true,
   "sideBar": true,
   "skip_h1_title": false,
   "title_cell": "Table of Contents",
   "title_sidebar": "Contents",
   "toc_cell": false,
   "toc_position": {},
   "toc_section_display": true,
   "toc_window_display": false
  }
 },
 "nbformat": 4,
 "nbformat_minor": 1
}
